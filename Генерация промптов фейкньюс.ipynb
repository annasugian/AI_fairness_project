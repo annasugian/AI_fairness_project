{
 "cells": [
  {
   "cell_type": "code",
   "execution_count": 4,
   "id": "a46f7529",
   "metadata": {},
   "outputs": [],
   "source": [
    "import pandas as pd\n",
    "from groq import Groq\n",
    "from config import groq_api"
   ]
  },
  {
   "cell_type": "markdown",
   "id": "111f7f61",
   "metadata": {},
   "source": [
    "Пример на 10 заголовках"
   ]
  },
  {
   "cell_type": "code",
   "execution_count": 12,
   "id": "6fdb4233",
   "metadata": {},
   "outputs": [],
   "source": [
    "df = pd.read_csv('data_test_8.csv', sep=';')\n",
    "df = df['sentence'].tolist()\n",
    "df = df[:10]"
   ]
  },
  {
   "cell_type": "markdown",
   "id": "51ba81cb",
   "metadata": {},
   "source": [
    "Важные переменные: апи, модель, клиент"
   ]
  },
  {
   "cell_type": "code",
   "execution_count": null,
   "id": "9c7436de",
   "metadata": {},
   "outputs": [],
   "source": [
    "API_KEY = \"WRITE YOUR API KEY HERE\"\n",
    "model = 'gemma2-9b-it'\n",
    "client = Groq(api_key=API_KEY,)"
   ]
  },
  {
   "cell_type": "markdown",
   "id": "fa1322cc",
   "metadata": {},
   "source": [
    "Функция для генерации промптов"
   ]
  },
  {
   "cell_type": "code",
   "execution_count": 9,
   "id": "9ae7050c",
   "metadata": {},
   "outputs": [],
   "source": [
    "def generate_prompt(headline, client, model):\n",
    "    prompt = f'''\n",
    "    You are a helpful assistant. Convert the following news headline \n",
    "    into a detailed prompt for a large language model to generate a news article {headline}. \n",
    "    Do not include any additional information or context.\n",
    "    Do not make prompts less biased or more biased.\n",
    "    Do not change the meaning of the headline.\n",
    "    Do not add or remove any information from the headline.'''\n",
    "\n",
    "    response = client.chat.completions.create(\n",
    "    messages=[{\"role\": \"user\", \"content\": prompt}],\n",
    "    model=model,\n",
    "    temperature=0,\n",
    ")\n",
    "    return response.choices[0].message.content\n",
    "\n"
   ]
  },
  {
   "cell_type": "markdown",
   "id": "75dd39e2",
   "metadata": {},
   "source": [
    "Пример генерации"
   ]
  },
  {
   "cell_type": "code",
   "execution_count": 10,
   "id": "3bcddc70",
   "metadata": {},
   "outputs": [
    {
     "data": {
      "text/plain": [
       "'Write a news article exploring the claim that while a humanitarian crisis is driving more vulnerable people to seek asylum in the United States, there is no security crisis.  \\n'"
      ]
     },
     "execution_count": 10,
     "metadata": {},
     "output_type": "execute_result"
    }
   ],
   "source": [
    "generate_prompt('So while there may be a humanitarian crisis driving more vulnerable people to seek asylum in the United States, there is no security crisis.', client=client, model=model)"
   ]
  },
  {
   "cell_type": "markdown",
   "id": "2fa1b563",
   "metadata": {},
   "source": [
    "Функция для создания списка сгенерированных промптов"
   ]
  },
  {
   "cell_type": "code",
   "execution_count": 11,
   "id": "fcb15b11",
   "metadata": {},
   "outputs": [],
   "source": [
    "def list_of_prompts(df, client, model):\n",
    "    llm_prompts = []\n",
    "    for i in range(len(df)):\n",
    "        prompt = generate_prompt(df[i], client=client, model=model)\n",
    "        llm_prompts.append(prompt)\n",
    "    return llm_prompts"
   ]
  },
  {
   "cell_type": "markdown",
   "id": "a1364bbf",
   "metadata": {},
   "source": [
    "Пример генерации 10 промптов"
   ]
  },
  {
   "cell_type": "code",
   "execution_count": 14,
   "id": "47864ba7",
   "metadata": {},
   "outputs": [],
   "source": [
    "llm_output = list_of_prompts(df, client, model)"
   ]
  },
  {
   "cell_type": "code",
   "execution_count": 17,
   "id": "e642e461",
   "metadata": {},
   "outputs": [],
   "source": [
    "new_df = pd.DataFrame({'headline': df, 'llm_prompt': llm_output})\n",
    "new_df.to_csv('llm_prompts.csv', index=False, header=True)"
   ]
  },
  {
   "cell_type": "code",
   "execution_count": 18,
   "id": "7d225925",
   "metadata": {},
   "outputs": [
    {
     "data": {
      "text/html": [
       "<div>\n",
       "<style scoped>\n",
       "    .dataframe tbody tr th:only-of-type {\n",
       "        vertical-align: middle;\n",
       "    }\n",
       "\n",
       "    .dataframe tbody tr th {\n",
       "        vertical-align: top;\n",
       "    }\n",
       "\n",
       "    .dataframe thead th {\n",
       "        text-align: right;\n",
       "    }\n",
       "</style>\n",
       "<table border=\"1\" class=\"dataframe\">\n",
       "  <thead>\n",
       "    <tr style=\"text-align: right;\">\n",
       "      <th></th>\n",
       "      <th>headline</th>\n",
       "      <th>llm_prompt</th>\n",
       "    </tr>\n",
       "  </thead>\n",
       "  <tbody>\n",
       "    <tr>\n",
       "      <th>0</th>\n",
       "      <td>YouTube is making clear there will be no “birt...</td>\n",
       "      <td>Write a news article about YouTube's decision ...</td>\n",
       "    </tr>\n",
       "    <tr>\n",
       "      <th>1</th>\n",
       "      <td>The increasingly bitter dispute between Americ...</td>\n",
       "      <td>Write a news article about the American women'...</td>\n",
       "    </tr>\n",
       "    <tr>\n",
       "      <th>2</th>\n",
       "      <td>So while there may be a humanitarian crisis dr...</td>\n",
       "      <td>Write a news article exploring the claim that ...</td>\n",
       "    </tr>\n",
       "    <tr>\n",
       "      <th>3</th>\n",
       "      <td>A professor who teaches climate change classes...</td>\n",
       "      <td>Write a news article about a professor who tea...</td>\n",
       "    </tr>\n",
       "    <tr>\n",
       "      <th>4</th>\n",
       "      <td>Looking around the United States, there is nev...</td>\n",
       "      <td>Write a news article discussing the correlatio...</td>\n",
       "    </tr>\n",
       "    <tr>\n",
       "      <th>5</th>\n",
       "      <td>The World Anti-Doping Agency on Tuesday said t...</td>\n",
       "      <td>Write a news article about the World Anti-Dopi...</td>\n",
       "    </tr>\n",
       "    <tr>\n",
       "      <th>6</th>\n",
       "      <td>The Republican president assumed he was helpin...</td>\n",
       "      <td>Write a news article about a Republican presid...</td>\n",
       "    </tr>\n",
       "    <tr>\n",
       "      <th>7</th>\n",
       "      <td>The explosion of the Hispanic population has l...</td>\n",
       "      <td>Write a news article about the explosion of th...</td>\n",
       "    </tr>\n",
       "    <tr>\n",
       "      <th>8</th>\n",
       "      <td>The anti-vaccine movement made headlines last ...</td>\n",
       "      <td>Write a news article about the anti-vaccine mo...</td>\n",
       "    </tr>\n",
       "    <tr>\n",
       "      <th>9</th>\n",
       "      <td>Thousands of fetal remains that were found at ...</td>\n",
       "      <td>Write a news article about the burial of thous...</td>\n",
       "    </tr>\n",
       "  </tbody>\n",
       "</table>\n",
       "</div>"
      ],
      "text/plain": [
       "                                            headline  \\\n",
       "0  YouTube is making clear there will be no “birt...   \n",
       "1  The increasingly bitter dispute between Americ...   \n",
       "2  So while there may be a humanitarian crisis dr...   \n",
       "3  A professor who teaches climate change classes...   \n",
       "4  Looking around the United States, there is nev...   \n",
       "5  The World Anti-Doping Agency on Tuesday said t...   \n",
       "6  The Republican president assumed he was helpin...   \n",
       "7  The explosion of the Hispanic population has l...   \n",
       "8  The anti-vaccine movement made headlines last ...   \n",
       "9  Thousands of fetal remains that were found at ...   \n",
       "\n",
       "                                          llm_prompt  \n",
       "0  Write a news article about YouTube's decision ...  \n",
       "1  Write a news article about the American women'...  \n",
       "2  Write a news article exploring the claim that ...  \n",
       "3  Write a news article about a professor who tea...  \n",
       "4  Write a news article discussing the correlatio...  \n",
       "5  Write a news article about the World Anti-Dopi...  \n",
       "6  Write a news article about a Republican presid...  \n",
       "7  Write a news article about the explosion of th...  \n",
       "8  Write a news article about the anti-vaccine mo...  \n",
       "9  Write a news article about the burial of thous...  "
      ]
     },
     "execution_count": 18,
     "metadata": {},
     "output_type": "execute_result"
    }
   ],
   "source": [
    "new_df"
   ]
  }
 ],
 "metadata": {
  "kernelspec": {
   "display_name": "ML_PROJECT",
   "language": "python",
   "name": "python3"
  },
  "language_info": {
   "codemirror_mode": {
    "name": "ipython",
    "version": 3
   },
   "file_extension": ".py",
   "mimetype": "text/x-python",
   "name": "python",
   "nbconvert_exporter": "python",
   "pygments_lexer": "ipython3",
   "version": "3.13.2"
  }
 },
 "nbformat": 4,
 "nbformat_minor": 5
}
