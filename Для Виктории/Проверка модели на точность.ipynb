{
 "cells": [
  {
   "cell_type": "markdown",
   "id": "b0c7bff6",
   "metadata": {},
   "source": [
    "## Проверяем насколько точно моделька gpt-4o-mini может вычислить предвзятость в текстах"
   ]
  },
  {
   "cell_type": "code",
   "execution_count": 1,
   "id": "6407c6f2",
   "metadata": {},
   "outputs": [],
   "source": [
    "import pandas as pd\n",
    "import openai\n",
    "from sklearn.metrics import accuracy_score, classification_report\n",
    "from config import api_key "
   ]
  },
  {
   "cell_type": "markdown",
   "id": "909e3222",
   "metadata": {},
   "source": [
    "### Мы собрали данные (предложения) из двух датасетов: [BABE](https://www.kaggle.com/datasets/timospinde/babe-media-bias-annotations-by-experts/data) и [MBIC](https://www.kaggle.com/datasets/timospinde/mbic-a-media-bias-annotation-dataset?resource=download). Они оба содержат предложения из медиа, которые отнесены к одному из двух классов: Biased (1) и Non-biased (0). Мы собрали по 150 предложений с каждого датасета и получился один датасет из 300 предложений с метками 0 и 1."
   ]
  },
  {
   "cell_type": "code",
   "execution_count": 10,
   "id": "e1cea4d7",
   "metadata": {},
   "outputs": [
    {
     "data": {
      "text/html": [
       "<div>\n",
       "<style scoped>\n",
       "    .dataframe tbody tr th:only-of-type {\n",
       "        vertical-align: middle;\n",
       "    }\n",
       "\n",
       "    .dataframe tbody tr th {\n",
       "        vertical-align: top;\n",
       "    }\n",
       "\n",
       "    .dataframe thead th {\n",
       "        text-align: right;\n",
       "    }\n",
       "</style>\n",
       "<table border=\"1\" class=\"dataframe\">\n",
       "  <thead>\n",
       "    <tr style=\"text-align: right;\">\n",
       "      <th></th>\n",
       "      <th>sentence</th>\n",
       "      <th>label_bias</th>\n",
       "    </tr>\n",
       "  </thead>\n",
       "  <tbody>\n",
       "    <tr>\n",
       "      <th>0</th>\n",
       "      <td>YouTube is making clear there will be no “birt...</td>\n",
       "      <td>1</td>\n",
       "    </tr>\n",
       "    <tr>\n",
       "      <th>1</th>\n",
       "      <td>The increasingly bitter dispute between Americ...</td>\n",
       "      <td>0</td>\n",
       "    </tr>\n",
       "    <tr>\n",
       "      <th>2</th>\n",
       "      <td>So while there may be a humanitarian crisis dr...</td>\n",
       "      <td>1</td>\n",
       "    </tr>\n",
       "    <tr>\n",
       "      <th>3</th>\n",
       "      <td>A professor who teaches climate change classes...</td>\n",
       "      <td>0</td>\n",
       "    </tr>\n",
       "    <tr>\n",
       "      <th>4</th>\n",
       "      <td>Looking around the United States, there is nev...</td>\n",
       "      <td>1</td>\n",
       "    </tr>\n",
       "  </tbody>\n",
       "</table>\n",
       "</div>"
      ],
      "text/plain": [
       "                                            sentence  label_bias\n",
       "0  YouTube is making clear there will be no “birt...           1\n",
       "1  The increasingly bitter dispute between Americ...           0\n",
       "2  So while there may be a humanitarian crisis dr...           1\n",
       "3  A professor who teaches climate change classes...           0\n",
       "4  Looking around the United States, there is nev...           1"
      ]
     },
     "execution_count": 10,
     "metadata": {},
     "output_type": "execute_result"
    }
   ],
   "source": [
    "openai.api_key = api_key\n",
    "\n",
    "# Загрузка данных\n",
    "df = pd.read_csv(\"/Users/Anna/Documents/python/ML_PROJECT/data_test_8.csv\", encoding='utf-8', sep=';')  \n",
    "df.head()"
   ]
  },
  {
   "cell_type": "code",
   "execution_count": 16,
   "id": "548b7d65",
   "metadata": {},
   "outputs": [
    {
     "name": "stdout",
     "output_type": "stream",
     "text": [
      "<class 'pandas.core.frame.DataFrame'>\n",
      "RangeIndex: 300 entries, 0 to 299\n",
      "Data columns (total 2 columns):\n",
      " #   Column      Non-Null Count  Dtype \n",
      "---  ------      --------------  ----- \n",
      " 0   sentence    300 non-null    object\n",
      " 1   label_bias  300 non-null    int64 \n",
      "dtypes: int64(1), object(1)\n",
      "memory usage: 4.8+ KB\n"
     ]
    }
   ],
   "source": [
    "df.info()"
   ]
  },
  {
   "cell_type": "markdown",
   "id": "1a56f152",
   "metadata": {},
   "source": [
    "### Разделим метки и предложения для дальнейшей оценки модели"
   ]
  },
  {
   "cell_type": "code",
   "execution_count": 13,
   "id": "5b604690",
   "metadata": {},
   "outputs": [],
   "source": [
    "texts = df[\"sentence\"].tolist()\n",
    "labels = df[\"label_bias\"].tolist()"
   ]
  },
  {
   "cell_type": "markdown",
   "id": "968f931f",
   "metadata": {},
   "source": [
    "### Посмотрим, как модель вычисляет предвзятость с разной температурой"
   ]
  },
  {
   "cell_type": "markdown",
   "id": "a287b38b",
   "metadata": {},
   "source": [
    "Temperature = 0"
   ]
  },
  {
   "cell_type": "code",
   "execution_count": 15,
   "id": "f3e76b81",
   "metadata": {},
   "outputs": [],
   "source": [
    "# функция для классификации через GPT\n",
    "def classify_text(text):\n",
    "    prompt = f\"\"\"Classify the following text into one of two classes.: Biased (1) and Non-biased (0).\n",
    "Answer with only one number (0 or 1), with no explanation.\n",
    "\n",
    "Text: \"{text}\"\n",
    "\"\"\"\n",
    "    response = openai.chat.completions.create(\n",
    "    model=\"gpt-4o-mini\",\n",
    "    messages=[{\"role\": \"user\", \"content\": prompt}],\n",
    "    temperature=0,\n",
    ")\n",
    "    reply = response.choices[0].message.content.strip()\n",
    "    return int(reply)\n",
    "\n",
    "\n",
    "predicted_labels = [classify_text(text) for text in texts]\n"
   ]
  },
  {
   "cell_type": "code",
   "execution_count": 17,
   "id": "9fb25e11",
   "metadata": {},
   "outputs": [
    {
     "name": "stdout",
     "output_type": "stream",
     "text": [
      "Точность (accuracy): 0.7766666666666666\n",
      "\n",
      "Отчет по метрикам:\n",
      "              precision    recall  f1-score   support\n",
      "\n",
      "           0       0.87      0.68      0.76       160\n",
      "           1       0.71      0.89      0.79       140\n",
      "\n",
      "    accuracy                           0.78       300\n",
      "   macro avg       0.79      0.78      0.78       300\n",
      "weighted avg       0.80      0.78      0.78       300\n",
      "\n"
     ]
    }
   ],
   "source": [
    "# Отчет\n",
    "accuracy = accuracy_score(labels, predicted_labels)\n",
    "print(\"Точность (accuracy):\", accuracy)\n",
    "print(\"\\nОтчет по метрикам:\")\n",
    "print(classification_report(labels, predicted_labels))"
   ]
  },
  {
   "cell_type": "markdown",
   "id": "6e11c06e",
   "metadata": {},
   "source": [
    "Temperature = 0.5"
   ]
  },
  {
   "cell_type": "code",
   "execution_count": 18,
   "id": "29ae175c",
   "metadata": {},
   "outputs": [
    {
     "name": "stdout",
     "output_type": "stream",
     "text": [
      "Точность (accuracy): 0.77\n",
      "\n",
      "Отчет по метрикам:\n",
      "              precision    recall  f1-score   support\n",
      "\n",
      "           0       0.86      0.68      0.76       160\n",
      "           1       0.70      0.88      0.78       140\n",
      "\n",
      "    accuracy                           0.77       300\n",
      "   macro avg       0.78      0.78      0.77       300\n",
      "weighted avg       0.79      0.77      0.77       300\n",
      "\n"
     ]
    }
   ],
   "source": [
    "def classify_text(text):\n",
    "    prompt = f\"\"\"Classify the following text into one of two classes.: Biased (1) and Non-biased (0).\n",
    "Answer with only one number (0 or 1), with no explanation.\n",
    "\n",
    "Text: \"{text}\"\n",
    "\"\"\"\n",
    "    response = openai.chat.completions.create(\n",
    "    model=\"gpt-4o-mini\",\n",
    "    messages=[{\"role\": \"user\", \"content\": prompt}],\n",
    "    temperature=0.5,\n",
    ")\n",
    "    reply = response.choices[0].message.content.strip()\n",
    "    return int(reply)\n",
    "\n",
    "\n",
    "predicted_labels = [classify_text(text) for text in texts]\n",
    "\n",
    "accuracy = accuracy_score(labels, predicted_labels)\n",
    "print(\"Точность (accuracy):\", accuracy)\n",
    "print(\"\\nОтчет по метрикам:\")\n",
    "print(classification_report(labels, predicted_labels))"
   ]
  },
  {
   "cell_type": "markdown",
   "id": "7defbcbc",
   "metadata": {},
   "source": [
    "Temperature = 1"
   ]
  },
  {
   "cell_type": "code",
   "execution_count": 19,
   "id": "ca92b156",
   "metadata": {},
   "outputs": [
    {
     "name": "stdout",
     "output_type": "stream",
     "text": [
      "Точность (accuracy): 0.77\n",
      "\n",
      "Отчет по метрикам:\n",
      "              precision    recall  f1-score   support\n",
      "\n",
      "           0       0.87      0.67      0.76       160\n",
      "           1       0.70      0.89      0.78       140\n",
      "\n",
      "    accuracy                           0.77       300\n",
      "   macro avg       0.79      0.78      0.77       300\n",
      "weighted avg       0.79      0.77      0.77       300\n",
      "\n"
     ]
    }
   ],
   "source": [
    "def classify_text(text):\n",
    "    prompt = f\"\"\"Classify the following text into one of two classes.: Biased (1) and Non-biased (0).\n",
    "Answer with only one number (0 or 1), with no explanation.\n",
    "\n",
    "Text: \"{text}\"\n",
    "\"\"\"\n",
    "    response = openai.chat.completions.create(\n",
    "    model=\"gpt-4o-mini\",\n",
    "    messages=[{\"role\": \"user\", \"content\": prompt}],\n",
    "    temperature=0.5,\n",
    ")\n",
    "    reply = response.choices[0].message.content.strip()\n",
    "    return int(reply)\n",
    "\n",
    "\n",
    "predicted_labels = [classify_text(text) for text in texts]\n",
    "\n",
    "accuracy = accuracy_score(labels, predicted_labels)\n",
    "print(\"Точность (accuracy):\", accuracy)\n",
    "print(\"\\nОтчет по метрикам:\")\n",
    "print(classification_report(labels, predicted_labels))"
   ]
  },
  {
   "cell_type": "markdown",
   "id": "2be110f9",
   "metadata": {},
   "source": [
    "### Выводы: температура не сильно влияет на качество оценки модели, почти везде это 0,77"
   ]
  }
 ],
 "metadata": {
  "kernelspec": {
   "display_name": "ML_PROJECT",
   "language": "python",
   "name": "python3"
  },
  "language_info": {
   "codemirror_mode": {
    "name": "ipython",
    "version": 3
   },
   "file_extension": ".py",
   "mimetype": "text/x-python",
   "name": "python",
   "nbconvert_exporter": "python",
   "pygments_lexer": "ipython3",
   "version": "3.13.2"
  }
 },
 "nbformat": 4,
 "nbformat_minor": 5
}
